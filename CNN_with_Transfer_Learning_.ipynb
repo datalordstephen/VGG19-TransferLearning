{
  "cells": [
    {
      "cell_type": "code",
      "execution_count": 1,
      "metadata": {
        "id": "alZJct4DyxL_"
      },
      "outputs": [],
      "source": [
        "# importing  the necessary libraries\n",
        "import requests\n",
        "import numpy as np \n",
        "import cv2\n",
        "import json\n",
        "import pandas as pd \n",
        "import tensorflow as tf\n",
        "import matplotlib.pyplot as plt\n",
        "import matplotlib.image as mpimg\n",
        "from tensorflow.keras.preprocessing.image import ImageDataGenerator\n",
        "from tensorflow.keras.optimizers import RMSprop\n",
        "from keras.models import Sequential\n",
        "from keras import regularizers\n",
        "from keras.layers.core import Dropout\n",
        "from keras.layers import Conv2D, MaxPooling2D, Dropout, Flatten, Dense, Activation, BatchNormalization\n",
        "from keras.datasets import fashion_mnist"
      ]
    },
    {
      "cell_type": "code",
      "execution_count": 2,
      "metadata": {
        "id": "XAQV3MjPz_4Y"
      },
      "outputs": [],
      "source": [
        "# loading the data\n",
        "(x_train,y_train), (x_test,y_test) = fashion_mnist.load_data()"
      ]
    },
    {
      "cell_type": "code",
      "execution_count": 3,
      "metadata": {
        "colab": {
          "base_uri": "https://localhost:8080/"
        },
        "id": "F9Y_xXuE0mBJ",
        "outputId": "a1f0d970-416a-413e-9b98-734c9519077f"
      },
      "outputs": [
        {
          "data": {
            "text/plain": [
              "(60000, 28, 28)"
            ]
          },
          "execution_count": 3,
          "metadata": {
            "tags": []
          },
          "output_type": "execute_result"
        }
      ],
      "source": [
        "# checking the shape of the data\n",
        "print(\"X test: \", x_test.shape)\n",
        "print(\"X train: \", x_train.shape)\n",
        "print(\"Y test: \", y_test.shape)\n",
        "print(\"Y train: \", y_train.shape)"
      ]
    },
    {
      "cell_type": "markdown",
      "metadata": {},
      "source": [
        "From the shape, the images do not have their RGB channels."
      ]
    },
    {
      "cell_type": "code",
      "execution_count": 4,
      "metadata": {
        "id": "yDcRG6cH1iEk"
      },
      "outputs": [],
      "source": [
        "# converting the images to RGB\n",
        "x_train_3ch = np.stack([x_train]*3, axis=-1)\n",
        "x_test_3ch = np.stack([x_test]*3, axis=-1)"
      ]
    },
    {
      "cell_type": "code",
      "execution_count": 5,
      "metadata": {
        "colab": {
          "base_uri": "https://localhost:8080/"
        },
        "id": "_2Tpjf_r7tTj",
        "outputId": "c4ee244d-7177-46a6-c325-b54bc041e1bd"
      },
      "outputs": [
        {
          "data": {
            "text/plain": [
              "(60000, 28, 28, 3)"
            ]
          },
          "execution_count": 5,
          "metadata": {
            "tags": []
          },
          "output_type": "execute_result"
        }
      ],
      "source": [
        "# viewing the changes\n",
        "x_train_3ch.shape"
      ]
    },
    {
      "cell_type": "code",
      "execution_count": 6,
      "metadata": {
        "id": "9Y-Ekw847xuT"
      },
      "outputs": [],
      "source": [
        "# function to resize images\n",
        "def resize_image_array(img, img_size_dims):\n",
        "  img = cv2.resize(img, dsize=img_size_dims, interpolation=cv2.INTER_CUBIC)\n",
        "  img = np.array(img, dtype=np.float32)\n",
        "  return img"
      ]
    },
    {
      "cell_type": "code",
      "execution_count": 7,
      "metadata": {
        "id": "5RXlI4r28QkN"
      },
      "outputs": [],
      "source": [
        "# dimension to rezize the image to\n",
        "IMG_DIMS = (32, 32)\n",
        "\n",
        "x_train_reshaped = np.array([resize_image_array(img, IMG_DIMS) for img in x_train_3ch])\n",
        "x_test_reshaped = np.array([resize_image_array(img, IMG_DIMS) for img in x_test_3ch])"
      ]
    },
    {
      "cell_type": "code",
      "execution_count": 8,
      "metadata": {
        "colab": {
          "base_uri": "https://localhost:8080/"
        },
        "id": "xJG7ntAN9pw7",
        "outputId": "ced7f0fe-8a6e-4ecb-cf8e-68b3d05b915f"
      },
      "outputs": [
        {
          "data": {
            "text/plain": [
              "(60000, 32, 32, 3)"
            ]
          },
          "execution_count": 8,
          "metadata": {
            "tags": []
          },
          "output_type": "execute_result"
        }
      ],
      "source": [
        "# viewing the resized images\n",
        "x_train_reshaped.shape"
      ]
    },
    {
      "cell_type": "code",
      "execution_count": 9,
      "metadata": {
        "colab": {
          "base_uri": "https://localhost:8080/"
        },
        "id": "9oKWCFgc9rwx",
        "outputId": "d6077f5c-1313-4e21-8199-535219463c7d"
      },
      "outputs": [
        {
          "name": "stdout",
          "output_type": "stream",
          "text": [
            "Model: \"vgg19\"\n",
            "_________________________________________________________________\n",
            "Layer (type)                 Output Shape              Param #   \n",
            "=================================================================\n",
            "input_1 (InputLayer)         [(None, 32, 32, 3)]       0         \n",
            "_________________________________________________________________\n",
            "block1_conv1 (Conv2D)        (None, 32, 32, 64)        1792      \n",
            "_________________________________________________________________\n",
            "block1_conv2 (Conv2D)        (None, 32, 32, 64)        36928     \n",
            "_________________________________________________________________\n",
            "block1_pool (MaxPooling2D)   (None, 16, 16, 64)        0         \n",
            "_________________________________________________________________\n",
            "block2_conv1 (Conv2D)        (None, 16, 16, 128)       73856     \n",
            "_________________________________________________________________\n",
            "block2_conv2 (Conv2D)        (None, 16, 16, 128)       147584    \n",
            "_________________________________________________________________\n",
            "block2_pool (MaxPooling2D)   (None, 8, 8, 128)         0         \n",
            "_________________________________________________________________\n",
            "block3_conv1 (Conv2D)        (None, 8, 8, 256)         295168    \n",
            "_________________________________________________________________\n",
            "block3_conv2 (Conv2D)        (None, 8, 8, 256)         590080    \n",
            "_________________________________________________________________\n",
            "block3_conv3 (Conv2D)        (None, 8, 8, 256)         590080    \n",
            "_________________________________________________________________\n",
            "block3_conv4 (Conv2D)        (None, 8, 8, 256)         590080    \n",
            "_________________________________________________________________\n",
            "block3_pool (MaxPooling2D)   (None, 4, 4, 256)         0         \n",
            "_________________________________________________________________\n",
            "block4_conv1 (Conv2D)        (None, 4, 4, 512)         1180160   \n",
            "_________________________________________________________________\n",
            "block4_conv2 (Conv2D)        (None, 4, 4, 512)         2359808   \n",
            "_________________________________________________________________\n",
            "block4_conv3 (Conv2D)        (None, 4, 4, 512)         2359808   \n",
            "_________________________________________________________________\n",
            "block4_conv4 (Conv2D)        (None, 4, 4, 512)         2359808   \n",
            "_________________________________________________________________\n",
            "block4_pool (MaxPooling2D)   (None, 2, 2, 512)         0         \n",
            "_________________________________________________________________\n",
            "block5_conv1 (Conv2D)        (None, 2, 2, 512)         2359808   \n",
            "_________________________________________________________________\n",
            "block5_conv2 (Conv2D)        (None, 2, 2, 512)         2359808   \n",
            "_________________________________________________________________\n",
            "block5_conv3 (Conv2D)        (None, 2, 2, 512)         2359808   \n",
            "_________________________________________________________________\n",
            "block5_conv4 (Conv2D)        (None, 2, 2, 512)         2359808   \n",
            "_________________________________________________________________\n",
            "block5_pool (MaxPooling2D)   (None, 1, 1, 512)         0         \n",
            "=================================================================\n",
            "Total params: 20,024,384\n",
            "Trainable params: 20,024,384\n",
            "Non-trainable params: 0\n",
            "_________________________________________________________________\n"
          ]
        }
      ],
      "source": [
        "# importing the pre-trained VGG19 model\n",
        "from keras.applications.vgg19 import VGG19\n",
        "INPUT_SHAPE = (32, 32, 3)\n",
        "\n",
        "# viewing the model structure\n",
        "vgg_layer = VGG19(weights = 'imagenet' , include_top = False, input_shape = INPUT_SHAPE)\n",
        "vgg_layer.summary()"
      ]
    },
    {
      "cell_type": "code",
      "execution_count": 10,
      "metadata": {
        "id": "RyT_gcyA_NJ7"
      },
      "outputs": [],
      "source": [
        "# unfreezing the VGG19 layers and making them trainiable\n",
        "for layer in vgg_layer.layers:\n",
        "  layer.trainable = True"
      ]
    },
    {
      "cell_type": "code",
      "execution_count": 15,
      "metadata": {
        "colab": {
          "base_uri": "https://localhost:8080/"
        },
        "id": "F017mazC_ra9",
        "outputId": "4ffad991-fa59-4619-8a79-831a64ff8e5b"
      },
      "outputs": [
        {
          "name": "stdout",
          "output_type": "stream",
          "text": [
            "Model: \"sequential_1\"\n",
            "_________________________________________________________________\n",
            "Layer (type)                 Output Shape              Param #   \n",
            "=================================================================\n",
            "vgg19 (Functional)           (None, 1, 1, 512)         20024384  \n",
            "_________________________________________________________________\n",
            "flatten_1 (Flatten)          (None, 512)               0         \n",
            "_________________________________________________________________\n",
            "dense_3 (Dense)              (None, 256)               131328    \n",
            "_________________________________________________________________\n",
            "dropout_2 (Dropout)          (None, 256)               0         \n",
            "_________________________________________________________________\n",
            "dense_4 (Dense)              (None, 256)               65792     \n",
            "_________________________________________________________________\n",
            "dropout_3 (Dropout)          (None, 256)               0         \n",
            "_________________________________________________________________\n",
            "dense_5 (Dense)              (None, 10)                2570      \n",
            "=================================================================\n",
            "Total params: 20,224,074\n",
            "Trainable params: 20,224,074\n",
            "Non-trainable params: 0\n",
            "_________________________________________________________________\n"
          ]
        }
      ],
      "source": [
        "# creating a new fully connected layer and adding the VGG19 as a layer in our new sequential model\n",
        "model = Sequential()\n",
        "model.add(vgg_layer)\n",
        "model.add(Flatten())\n",
        "model.add(Dense(256, activation = 'relu'))\n",
        "model.add(Dropout(0.4))\n",
        "model.add(Dense(256, activation = 'relu'))\n",
        "model.add(Dropout(0.4))\n",
        "model.add(Dense(10, activation = 'softmax'))\n",
        "\n",
        "model.compile(optimizer='adam', loss = 'sparse_categorical_crossentropy', metrics = ['accuracy'])\n",
        "\n",
        "model.summary()"
      ]
    },
    {
      "cell_type": "code",
      "execution_count": null,
      "metadata": {
        "id": "MoldruwsBFHa"
      },
      "outputs": [],
      "source": [
        "# normalizing the data\n",
        "x_train_scaled = x_train_reshaped/255.0\n",
        "x_test_scaled = x_test_reshaped/255.0\n",
        "\n",
        "# setting callbacks to monitor model performance and make decisions\n",
        "from keras.callbacks import EarlyStopping\n",
        "\n",
        "# monitoring the loss and validation loss\n",
        "my_callbacks = EarlyStopping(monitor = 'val_loss', patience = 3, restore_best_weights = True,  verbose=1)"
      ]
    },
    {
      "cell_type": "code",
      "execution_count": 16,
      "metadata": {
        "colab": {
          "base_uri": "https://localhost:8080/"
        },
        "id": "xfGuBE9QE1jD",
        "outputId": "d149ca1b-8275-4694-cd26-c6d09b147f46"
      },
      "outputs": [
        {
          "name": "stdout",
          "output_type": "stream",
          "text": [
            "Epoch 1/100\n",
            "600/600 [==============================] - 39s 62ms/step - loss: 0.8046 - accuracy: 0.8251 - val_loss: 0.3237 - val_accuracy: 0.8956\n",
            "Epoch 2/100\n",
            "600/600 [==============================] - 36s 61ms/step - loss: 0.2777 - accuracy: 0.9112 - val_loss: 0.3386 - val_accuracy: 0.8826\n",
            "Epoch 3/100\n",
            "600/600 [==============================] - 37s 61ms/step - loss: 0.2959 - accuracy: 0.9038 - val_loss: 0.3140 - val_accuracy: 0.9105\n",
            "Epoch 4/100\n",
            "600/600 [==============================] - 38s 63ms/step - loss: 0.2323 - accuracy: 0.9294 - val_loss: 0.2693 - val_accuracy: 0.9115\n",
            "Epoch 5/100\n",
            "600/600 [==============================] - 37s 62ms/step - loss: 0.2161 - accuracy: 0.9307 - val_loss: 0.3172 - val_accuracy: 0.9139\n",
            "Epoch 6/100\n",
            "600/600 [==============================] - 38s 64ms/step - loss: 0.2181 - accuracy: 0.9321 - val_loss: 0.2846 - val_accuracy: 0.9093\n",
            "Epoch 7/100\n",
            "600/600 [==============================] - 38s 64ms/step - loss: 0.1964 - accuracy: 0.9355 - val_loss: 0.2530 - val_accuracy: 0.9215\n",
            "Epoch 8/100\n",
            "600/600 [==============================] - 39s 64ms/step - loss: 0.1780 - accuracy: 0.9422 - val_loss: 0.2519 - val_accuracy: 0.9171\n",
            "Epoch 9/100\n",
            "600/600 [==============================] - 39s 65ms/step - loss: 0.1569 - accuracy: 0.9502 - val_loss: 0.2683 - val_accuracy: 0.9082\n",
            "Epoch 10/100\n",
            "600/600 [==============================] - 38s 64ms/step - loss: 0.1691 - accuracy: 0.9455 - val_loss: 0.2602 - val_accuracy: 0.9218\n",
            "Epoch 11/100\n",
            "600/600 [==============================] - 39s 65ms/step - loss: 0.1501 - accuracy: 0.9510 - val_loss: 0.2782 - val_accuracy: 0.9119\n",
            "Restoring model weights from the end of the best epoch.\n",
            "Epoch 00011: early stopping\n"
          ]
        }
      ],
      "source": [
        "# fitting the model\n",
        "history = model.fit(x_train_scaled, y_train, batch_size = 100, callbacks = my_callbacks, validation_data = (x_test_scaled, y_test), epochs=100, verbose=1)"
      ]
    },
    {
      "cell_type": "code",
      "execution_count": 22,
      "metadata": {
        "id": "wrPXqHWXJI5J"
      },
      "outputs": [],
      "source": [
        "# Evaluating the models performance\n",
        "train_score = model.evaluate(x_train_scaled, y_train, verbose = 0)\n",
        "test_score = model.evaluate(x_test_scaled, y_test, verbose = 0)"
      ]
    },
    {
      "cell_type": "code",
      "execution_count": 25,
      "metadata": {
        "colab": {
          "base_uri": "https://localhost:8080/"
        },
        "id": "WXBQa1uELCbj",
        "outputId": "48b742b8-3b41-4859-a012-9d1992ccbedc"
      },
      "outputs": [
        {
          "name": "stdout",
          "output_type": "stream",
          "text": [
            "Train Accuracy: 94.9750006198883%\n",
            "Train Loss: 0.14971230924129486\n",
            "Test Accuracy : 91.71000123023987%\n",
            "Test Loss : 0.25186920166015625\n"
          ]
        }
      ],
      "source": [
        "# Printing out the metrics\n",
        "print(f'Train Accuracy: {train_score[1] * 100}%')\n",
        "print(f'Train Loss: {train_score[0]}')\n",
        "print(f'Test Accuracy : {test_score[1] * 100}%')\n",
        "print(f'Test Loss : {test_score[0]}')"
      ]
    },
    {
      "cell_type": "code",
      "execution_count": 27,
      "metadata": {
        "colab": {
          "base_uri": "https://localhost:8080/",
          "height": 312
        },
        "id": "4c69d_ehOD3d",
        "outputId": "ac25c7e2-b224-4073-90ed-fcb80a8435d8"
      },
      "outputs": [
        {
          "data": {
            "text/plain": [
              "Text(0.5, 0, 'epoch')"
            ]
          },
          "execution_count": 27,
          "metadata": {
            "tags": []
          },
          "output_type": "execute_result"
        },
        {
          "data": {
            "image/png": "[encoded data removed]",
            "text/plain": [
              "<Figure size 432x288 with 1 Axes>"
            ]
          },
          "metadata": {
            "needs_background": "light",
            "tags": []
          },
          "output_type": "display_data"
        }
      ],
      "source": [
        "# visualizing the loss and validation loss\n",
        "plt.plot(history.history['loss'])\n",
        "plt.plot(history.history['val_loss'])\n",
        "plt.legend(['loss', 'val_loss'])\n",
        "plt.title('Loss')\n",
        "plt.xlabel('epoch')\n",
        "plt.show()"
      ]
    },
    {
      "cell_type": "code",
      "execution_count": 28,
      "metadata": {
        "colab": {
          "base_uri": "https://localhost:8080/",
          "height": 312
        },
        "id": "XsX09QV3OD_Z",
        "outputId": "0d847320-0477-41a3-a055-f0fc0689520b"
      },
      "outputs": [
        {
          "data": {
            "text/plain": [
              "Text(0.5, 0, 'epoch')"
            ]
          },
          "execution_count": 28,
          "metadata": {
            "tags": []
          },
          "output_type": "execute_result"
        },
        {
          "data": {
            "image/png": "[encoded data removed]",
            "text/plain": [
              "<Figure size 432x288 with 1 Axes>"
            ]
          },
          "metadata": {
            "needs_background": "light",
            "tags": []
          },
          "output_type": "display_data"
        }
      ],
      "source": [
        "# Visualizing the accuracy and validation accuracy\n",
        "plt.plot(history.history['accuracy'])\n",
        "plt.plot(history.history['val_accuracy'])\n",
        "plt.legend(['accuracy', 'val_accuracy'])\n",
        "plt.title('Accuracy')\n",
        "plt.xlabel('epoch')\n",
        "plt.show()"
      ]
    },
    {
      "cell_type": "code",
      "execution_count": 26,
      "metadata": {
        "id": "wjWurUkpMZaY"
      },
      "outputs": [],
      "source": [
        "# Saving the model\n",
        "model.save(\"Transfer_Learning.h5\")"
      ]
    }
  ],
  "metadata": {
    "accelerator": "GPU",
    "colab": {
      "collapsed_sections": [],
      "name": "My CNN with Transfer Learning .ipynb",
      "provenance": []
    },
    "interpreter": {
      "hash": "cf92aa13fedf815d5c8dd192b8d835913fde3e8bc926b2a0ad6cc74ef2ba3ca2"
    },
    "kernelspec": {
      "display_name": "Python 3.9.2 64-bit",
      "language": "python",
      "name": "python3"
    },
    "language_info": {
      "codemirror_mode": {
        "name": "ipython",
        "version": 3
      },
      "file_extension": ".py",
      "mimetype": "text/x-python",
      "name": "python",
      "nbconvert_exporter": "python",
      "pygments_lexer": "ipython3",
      "version": "3.9.2"
    }
  },
  "nbformat": 4,
  "nbformat_minor": 0
}
